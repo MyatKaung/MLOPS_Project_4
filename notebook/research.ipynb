{
 "cells": [
  {
   "cell_type": "code",
   "execution_count": 8,
   "metadata": {},
   "outputs": [
    {
     "name": "stdout",
     "output_type": "stream",
     "text": [
      "['1\\n', '76 45 146 87\\n']\n",
      "1\n",
      "[[76, 45, 146, 87]]\n"
     ]
    }
   ],
   "source": [
    "with open(\"/Users/myatkaung/Desktop/MLOPS_PROJECTS/Project4/artifacts/raw/Labels/1.txt\", \"r\") as label_file:\n",
    "    lines = label_file.readlines()\n",
    "    num_boxes = int(lines[0])\n",
    "    print(lines)\n",
    "    print(num_boxes)\n",
    "    for line in lines[1:num_boxes+1]:\n",
    "        boxes = [list(map(int, line.strip().split()))]\n",
    "        print(boxes)\n",
    "\n",
    "    \n"
   ]
  },
  {
   "cell_type": "code",
   "execution_count": 9,
   "metadata": {},
   "outputs": [],
   "source": [
    "boxes = [list(map(int, line.strip().split())) for line in lines[1:num_boxes+1]]\n"
   ]
  },
  {
   "cell_type": "code",
   "execution_count": 10,
   "metadata": {},
   "outputs": [
    {
     "data": {
      "text/plain": [
       "[[76, 45, 146, 87]]"
      ]
     },
     "execution_count": 10,
     "metadata": {},
     "output_type": "execute_result"
    }
   ],
   "source": [
    "boxes"
   ]
  },
  {
   "cell_type": "code",
   "execution_count": null,
   "metadata": {},
   "outputs": [
    {
     "name": "stdout",
     "output_type": "stream",
     "text": [
      "[76, 45, 146, 87]\n"
     ]
    }
   ],
   "source": [
    "for box in boxes:\n",
    "    print(box)\n",
    "    start_point = (box[0], box[1])\n",
    "    end_point = (box[2], box[3])"
   ]
  },
  {
   "cell_type": "code",
   "execution_count": null,
   "metadata": {},
   "outputs": [],
   "source": []
  }
 ],
 "metadata": {
  "kernelspec": {
   "display_name": "base",
   "language": "python",
   "name": "python3"
  },
  "language_info": {
   "codemirror_mode": {
    "name": "ipython",
    "version": 3
   },
   "file_extension": ".py",
   "mimetype": "text/x-python",
   "name": "python",
   "nbconvert_exporter": "python",
   "pygments_lexer": "ipython3",
   "version": "3.11.7"
  }
 },
 "nbformat": 4,
 "nbformat_minor": 2
}
